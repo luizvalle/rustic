{
 "cells": [
  {
   "cell_type": "code",
   "execution_count": 20,
   "id": "99bb995f-9d58-4130-a46b-f3571383da34",
   "metadata": {},
   "outputs": [],
   "source": [
    "import json\n",
    "import pandas as pd"
   ]
  },
  {
   "cell_type": "code",
   "execution_count": 22,
   "id": "cab733c2-e388-43c7-9044-1ff0755ac826",
   "metadata": {},
   "outputs": [],
   "source": [
    "json_file_names = !ls data/coreutils_coverage/"
   ]
  },
  {
   "cell_type": "code",
   "execution_count": 26,
   "id": "d67f822d-0bb2-4c5b-aa6b-889a961918a1",
   "metadata": {},
   "outputs": [],
   "source": [
    "function_coverage_info = list()\n",
    "for json_file_name in json_file_names:\n",
    "    with open(f\"data/coreutils_coverage/{json_file_name}\", \"r\") as json_file:\n",
    "        json_contents = json.load(json_file)\n",
    "    for source_file in json_contents[\"files\"]:\n",
    "        for function in source_file[\"functions\"]:\n",
    "            info = {\n",
    "                \"executable_name\": json_contents[\"data_file\"],\n",
    "                \"source_file\": source_file[\"file\"],\n",
    "                \"function_name\": function[\"name\"],\n",
    "                \"basic_blocks\": function[\"blocks\"],\n",
    "                \"executed_basic_blocks\": function[\"blocks_executed\"],\n",
    "                \"coverage\": function[\"blocks_executed\"] / function[\"blocks\"] if function[\"blocks\"] else None,\n",
    "                \"number_of_times_executed\": function[\"execution_count\"]\n",
    "            }\n",
    "            function_coverage_info.append(info)"
   ]
  },
  {
   "cell_type": "code",
   "execution_count": 29,
   "id": "b8141118-8d06-4ca4-b779-260c234c4f64",
   "metadata": {},
   "outputs": [],
   "source": [
    "function_coverage_df = pd.DataFrame(function_coverage_info)"
   ]
  },
  {
   "cell_type": "code",
   "execution_count": 34,
   "id": "55c0e980-277c-44b2-8a41-b2e202267168",
   "metadata": {},
   "outputs": [
    {
     "data": {
      "text/html": [
       "<div>\n",
       "<style scoped>\n",
       "    .dataframe tbody tr th:only-of-type {\n",
       "        vertical-align: middle;\n",
       "    }\n",
       "\n",
       "    .dataframe tbody tr th {\n",
       "        vertical-align: top;\n",
       "    }\n",
       "\n",
       "    .dataframe thead th {\n",
       "        text-align: right;\n",
       "    }\n",
       "</style>\n",
       "<table border=\"1\" class=\"dataframe\">\n",
       "  <thead>\n",
       "    <tr style=\"text-align: right;\">\n",
       "      <th></th>\n",
       "      <th>executable_name</th>\n",
       "      <th>source_file</th>\n",
       "      <th>function_name</th>\n",
       "      <th>basic_blocks</th>\n",
       "      <th>executed_basic_blocks</th>\n",
       "      <th>coverage</th>\n",
       "      <th>number_of_times_executed</th>\n",
       "    </tr>\n",
       "  </thead>\n",
       "  <tbody>\n",
       "    <tr>\n",
       "      <th>0</th>\n",
       "      <td>src/basename</td>\n",
       "      <td>/home/luiz/Desktop/coreutils/src/basename.c</td>\n",
       "      <td>usage</td>\n",
       "      <td>11</td>\n",
       "      <td>11</td>\n",
       "      <td>1.0</td>\n",
       "      <td>14</td>\n",
       "    </tr>\n",
       "    <tr>\n",
       "      <th>1</th>\n",
       "      <td>src/basename</td>\n",
       "      <td>/home/luiz/Desktop/coreutils/src/basename.c</td>\n",
       "      <td>remove_suffix</td>\n",
       "      <td>8</td>\n",
       "      <td>8</td>\n",
       "      <td>1.0</td>\n",
       "      <td>15</td>\n",
       "    </tr>\n",
       "    <tr>\n",
       "      <th>2</th>\n",
       "      <td>src/basename</td>\n",
       "      <td>/home/luiz/Desktop/coreutils/src/basename.c</td>\n",
       "      <td>perform_basename</td>\n",
       "      <td>11</td>\n",
       "      <td>11</td>\n",
       "      <td>1.0</td>\n",
       "      <td>49</td>\n",
       "    </tr>\n",
       "    <tr>\n",
       "      <th>3</th>\n",
       "      <td>src/basename</td>\n",
       "      <td>/home/luiz/Desktop/coreutils/src/basename.c</td>\n",
       "      <td>main</td>\n",
       "      <td>41</td>\n",
       "      <td>41</td>\n",
       "      <td>1.0</td>\n",
       "      <td>63</td>\n",
       "    </tr>\n",
       "    <tr>\n",
       "      <th>4</th>\n",
       "      <td>src/basename</td>\n",
       "      <td>/home/luiz/Desktop/coreutils/src/system.h</td>\n",
       "      <td>initialize_exit_failure</td>\n",
       "      <td>3</td>\n",
       "      <td>0</td>\n",
       "      <td>0.0</td>\n",
       "      <td>0</td>\n",
       "    </tr>\n",
       "  </tbody>\n",
       "</table>\n",
       "</div>"
      ],
      "text/plain": [
       "  executable_name                                  source_file  \\\n",
       "0    src/basename  /home/luiz/Desktop/coreutils/src/basename.c   \n",
       "1    src/basename  /home/luiz/Desktop/coreutils/src/basename.c   \n",
       "2    src/basename  /home/luiz/Desktop/coreutils/src/basename.c   \n",
       "3    src/basename  /home/luiz/Desktop/coreutils/src/basename.c   \n",
       "4    src/basename    /home/luiz/Desktop/coreutils/src/system.h   \n",
       "\n",
       "             function_name  basic_blocks  executed_basic_blocks  coverage  \\\n",
       "0                    usage            11                     11       1.0   \n",
       "1            remove_suffix             8                      8       1.0   \n",
       "2         perform_basename            11                     11       1.0   \n",
       "3                     main            41                     41       1.0   \n",
       "4  initialize_exit_failure             3                      0       0.0   \n",
       "\n",
       "   number_of_times_executed  \n",
       "0                        14  \n",
       "1                        15  \n",
       "2                        49  \n",
       "3                        63  \n",
       "4                         0  "
      ]
     },
     "execution_count": 34,
     "metadata": {},
     "output_type": "execute_result"
    }
   ],
   "source": [
    "function_coverage_df.head()"
   ]
  }
 ],
 "metadata": {
  "kernelspec": {
   "display_name": "Python 3 (ipykernel)",
   "language": "python",
   "name": "python3"
  },
  "language_info": {
   "codemirror_mode": {
    "name": "ipython",
    "version": 3
   },
   "file_extension": ".py",
   "mimetype": "text/x-python",
   "name": "python",
   "nbconvert_exporter": "python",
   "pygments_lexer": "ipython3",
   "version": "3.12.2"
  }
 },
 "nbformat": 4,
 "nbformat_minor": 5
}
